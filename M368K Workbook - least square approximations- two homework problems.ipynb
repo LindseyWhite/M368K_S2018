{
 "cells": [
  {
   "cell_type": "markdown",
   "metadata": {},
   "source": [
    "# Least square approximations\n",
    "\n",
    "by [Richard Tsai](https://www.researchgate.net/profile/Richard_Tsai3)\n"
   ]
  },
  {
   "cell_type": "markdown",
   "metadata": {},
   "source": [
    "## QR factorization\n",
    "\n",
    "QR factorization finds orthonormal basis of the subspace spanned **successively** by columns of $A$.\n",
    "\n",
    "$A=QR$ where the columns of $Q$ are orthonormal and $R$ is an upper triangular matrix.\n",
    "\n",
    "Let $a_j$ be the jth column of $A$ and $q_j$ be the jth column of $Q$.\n",
    "\n",
    "span$\\{a_1,\\cdots,a_j\\}=$span$\\{q_1,\\cdots,q_j\\}, j=1,2,\\cdots,n$\n",
    "\n",
    "### Use QR factorization to solve the least square problem (=to solve the normal equations):\n",
    "\n",
    "$A=QR$ \n",
    "\n",
    "1. $y:= Q^\\top b$\n",
    "2. Solve $Rx=y$ by back-substitutions."
   ]
  },
  {
   "cell_type": "markdown",
   "metadata": {},
   "source": [
    "## Pivoted QR factorization and truncation and applications\n",
    "\n",
    "QR-factorization can be used to solve both **underdetermined**, \n",
    "**square** and **overdetermined**\n",
    "linear systems of equations. \n",
    "\n",
    "It can also be used to compute a numerically \n",
    "stable solution of an **ill-conditioned** system.\n",
    "\n",
    "\n",
    "With pivoted QR-factorization a matrix can be factorized into\n",
    "$$AP=QR$$\n",
    "where $P$ is a permutation matrix, making the diagonal elements $r_{i,i}$ in \n",
    "the uppertriangular matrix $R$ be ordered in decending order, i.e.\n",
    "$\\vert r_{i,i} \\vert \\le \\vert r_{i-1,i-1} \\vert $. \n",
    "\n",
    "$Q$ is orthonormal, i.e. $Q^\\top Q = I$. Assume the matrix $A$ is $n\\times n$. \n",
    "\n",
    "In Julia, $Q,R,$ and $P$ can be computed as follows:\n",
    "\n",
    "```\n",
    "F=qrfact(A, Val{true}) #Val{true} tells Julia to compute teh pivoted QR factorizaton\n",
    "Q=F[:Q]\n",
    "R=F[:R]\n",
    "P=F[:P]\n",
    "```\n",
    "\n",
    "The solution of a linear system of equations $A{\\bf x}={\\bf b}$ is obtained from \n",
    "$$R{\\bf y}=Q^T{\\bf b}, \\quad and \\quad {\\bf x}=P{\\bf y}$$\n",
    "If the matrix $A$ is ill-conditioned $R$ can be written on block form\n",
    "$$R=\\pmatrix{R_{11}&R_{12}\\cr\n",
    "               0   &E\\cr}$$\n",
    "where \n",
    "* $R_{11}$ is an uppertriangular matrices of dimension $r\\times r$, \n",
    "* $E$ is an uppertriangular matrices of dimension $n-r\\times n-r$, and **the elements of \n",
    "$E$ are very small**. \n",
    "    - The smaller the elements of $E$ are the more \n",
    "ill-conditioned is the matrix $A$. \n",
    "    - If the elements of $E$ are exactly zero the matrix $A$ is rank-deficient with $rank(A)=r$.\n",
    "        \n",
    "By setting small but nonzero elements in $E$ to zero we regard the matrix $A$ \n",
    "as rank-deficient even if it isn't that mathematically. Then we cannot \n",
    "find a unique solution. But we can, instead, **find a solution with the smallest 2-norm** to\n",
    "$\\hat A \\hat{\\bf x} = {\\bf b}$, where\n",
    "$$\\hat A = Q \\pmatrix{R_{11}&R_{12}\\cr\n",
    "                         0  & 0 \\cr} P^T$$\n",
    "according to the following algorithm:\n",
    "\n",
    "1. Compute the vectors $\\hat {\\bf d}$ and ${\\bf d}_E$ from\n",
    "$$Q^T {\\bf b} =\\pmatrix{\\hat {\\bf d}\\cr\n",
    "                         {\\bf d}_E \\cr}$$\n",
    "2. Solve the system \n",
    "$$R_{11}\\hat {\\bf y}=\\hat {\\bf d}$$\n",
    "3. Finally compute\n",
    "$$\\hat {\\bf x}=P\\pmatrix{\\hat {\\bf y}\\cr\n",
    "                            0\\cr}$$\n",
    "\n",
    "\n",
    "The goal of this exercise is to illustrate the following relations:\n",
    "\n",
    "1. the sensitivity of the solution $\\hat {\\bf x}$  from the experimentally computed condition number of $R_{11}$ (see below) as a\n",
    "function of $r$\n",
    "2. the condition number of $R_{11}$ computed with Julia's function 'cond( )' as a function of $r$\n",
    "3. the norm of the matrix $E$ as a function of $r$\n",
    "4. the norm of the residual ${\\bf res}=A \\hat {\\bf x} - {\\bf b}$ as a \n",
    "function of $r$\n",
    "\n",
    "What is important in practice is to find the rank $r$ for\n",
    "which both the residual ${\\bf res}$ and the sensitivity of disturbancies in\n",
    "**b** are \"small\". Often this is a compromize; the norm of the residual\n",
    "increases while the sensitivity (condition number) decreases as the rank $r$\n",
    "decreases.  \n",
    "\n",
    "\n",
    "In the following box, a function named 'gen_illposed_system()' is defined. \n",
    "It creates an ill-conditioned system $A{\\bf x}={\\bf b}$.\n",
    "\n",
    "1. Compute a system of size $n=18$, i.e. $A$ is $18\\times 18$ and ${\\bf b}$ is\n",
    "$18\\times 1$. \n",
    "2. Estimate the condition number $\\kappa (A)$ experimentally\n",
    "from the relation\n",
    "$${\\Vert \\Delta {\\bf x} \\Vert_2 \\over \\Vert {\\bf x} \\Vert_2} = \n",
    "\\kappa (A) {\\Vert \\Delta b \\Vert_2 \\over \\Vert {\\bf  b} \\Vert_2}$$\n",
    "by disturbing ${\\bf b}$ with some small perturbances $\\Delta {\\bf b}$ and see\n",
    "how ${\\bf x}$ is changed, $\\Delta {\\bf x}$. Compare your result with \n",
    "Julia's function `cond()`.\n",
    "3. Write a program showing a table of the following quantities \n",
    "as functions of the rank $r=8,7,6,5$: $\\tt norm(E)$, $\\tt cond(R_{11})$,\n",
    "the experimentally computed condition number of $R_{11}$, $\\tt norm(x)$,\n",
    "and $\\tt norm(res)$. Express your results in a way that describes the \n",
    "behaviour of the relations mentioned above as functions of the rank $r$.\n",
    "\n"
   ]
  },
  {
   "cell_type": "code",
   "execution_count": 73,
   "metadata": {
    "collapsed": false
   },
   "outputs": [
    {
     "data": {
      "text/plain": [
       "gen_illposed_system (generic function with 1 method)"
      ]
     },
     "execution_count": 73,
     "metadata": {},
     "output_type": "execute_result"
    }
   ],
   "source": [
    "function gen_illposed_system(n)\n",
    "# ILLPOSED Creates an ill-posed system Ax=b.\n",
    "#    ILLPOSED(N) creates an ill-posed system of size N.\n",
    "#    N >= 2\n",
    "    \n",
    "    r = max(convert(Int,round(0.25*n)),2)\n",
    "    U,S,V = svd(rand(n,n))\n",
    "    S[n-r+1:n]=linspace(1.5e-9,2.45e-12,r)\n",
    "    A = U*diagm(S)*V'\n",
    "    b = A*rand(n,1)\n",
    "    \n",
    "    return A,b\n",
    "end"
   ]
  },
  {
   "cell_type": "markdown",
   "metadata": {
    "collapsed": true
   },
   "source": [
    "### Solving least square problems with QR factorization\n",
    "\n",
    "The least squares method is used to fit functions to measured data. In the\n",
    "following box, measurements of the $CO_2$-concentration in the athmosphere is\n",
    "tabulated. \n",
    "The concentration is measured in parts per million and is\n",
    "available for each month from 1980 to 2003. \n",
    "The data are tabulated following teh following format:\n",
    "\n",
    "1980 338.01 338.36 340.08  ........................ 338.21\n",
    "\n",
    "1981 339.23 340.47 341.38  ........................ 339.61\n",
    "\n",
    "Hence each row starts with the year, then follows the 12 measurements for\n",
    "each month. \n",
    "\n",
    "Pick out the monthly values (columns 2 to 13) and store them columnwise in Q\n",
    "\n",
    "```\n",
    "Q=maunaloa[:,2:13]'```\n",
    "\n",
    "Put the measurements  in time increasing order in one column\n",
    "\n",
    "```\n",
    "b=Q[:] \n",
    "using PyPlot\n",
    "plot(b,\"x\")```"
   ]
  },
  {
   "cell_type": "code",
   "execution_count": 276,
   "metadata": {
    "collapsed": true
   },
   "outputs": [],
   "source": [
    "maunaloa=\n",
    "[1980 338.01 338.36 340.08 340.77 341.46 341.17 339.56 337.60 335.88 336.01 337.10 338.21;  \n",
    "1981 339.23 340.47 341.38 342.51 342.91 342.25 340.49 338.43 336.69 336.85 338.36 339.61;\n",
    "1982 340.75 341.61 342.70 343.56 344.13 343.35 342.06 339.82 337.97 337.86 339.26 340.49; \n",
    "1983 341.37 342.52 343.10 344.94 345.75 345.32 343.99 342.39 339.86 339.99 341.16 342.99;\n",
    "1984 343.70 344.51 345.28 347.08 347.43 346.79 345.40 343.28 341.07 341.35 342.98 344.22;\n",
    "1985 344.97 346.00 347.43 348.35 348.93 348.25 346.56 344.69 343.09 342.80 344.24 345.56;\n",
    "1986 346.29 346.96 347.86 349.55 350.21 349.54 347.94 345.91 344.86 344.17 345.66 346.90;\n",
    "1987 348.02 348.47 349.42 350.99 351.84 351.25 349.52 348.10 346.44 346.36 347.81 348.96; \n",
    "1988 350.43 351.72 352.22 353.59 354.22 353.79 352.39 350.44 348.72 348.88 350.07 351.34;\n",
    "1989 352.76 353.07 353.68 355.42 355.67 355.13 353.90 351.67 349.80 349.99 351.30 352.53;\n",
    "1990 353.66 354.70 355.39 356.20 357.16 356.22 354.82 352.91 350.96 351.18 352.83 354.21;\n",
    "1991 354.72 355.75 357.16 358.60 359.34 358.24 356.17 354.03 352.16 352.21 353.75 354.99;\n",
    "1992 355.98 356.72 357.81 359.15 359.66 359.25 357.03 355.00 353.01 353.31 354.16 355.40;\n",
    "1993 356.70 357.16 358.38 359.46 360.28 359.60 357.57 355.52 353.70 353.98 355.33 356.80;\n",
    "1994 358.36 358.91 359.97 361.26 361.68 360.95 359.55 357.49 355.84 355.99 357.58 359.04; \n",
    "1995 359.96 361.00 361.64 363.45 363.79 363.26 361.90 359.46 358.06 357.75 359.56 360.70;\n",
    "1996 362.05 363.25 364.03 364.72 365.41 364.97 363.65 361.49 359.46 359.60 360.76 362.33;\n",
    "1997 363.18 364.00 364.57 366.35 366.79 365.62 364.47 362.51 360.19 360.77 362.43 364.28;\n",
    "1998 365.32 366.15 367.31 368.61 369.29 368.87 367.64 365.77 363.90 364.23 365.46 366.97;\n",
    "1999 368.15 368.87 369.59 371.14 371.00 370.35 369.27 366.94 364.63 365.12 366.67 368.01;\n",
    "2000 369.14 369.46 370.52 371.66 371.82 371.70 370.12 368.12 366.62 366.73 368.29 369.53;\n",
    "2001 370.28 371.50 372.12 372.87 374.02 373.30 371.62 369.55 367.96 368.09 369.68 371.24;\n",
    "2002 372.43 373.09 373.52 374.86 375.55 375.41 374.02 371.49 370.71 370.25 372.08 373.78;\n",
    "2003 374.68 375.63 376.11 377.65 378.35 378.13 376.62 374.50 372.99 373.00 374.35 375.70];"
   ]
  },
  {
   "cell_type": "code",
   "execution_count": 277,
   "metadata": {
    "collapsed": false
   },
   "outputs": [
    {
     "data": {
      "image/png": "[encoded data removed]",
      "text/plain": [
       "PyPlot.Figure(PyObject <matplotlib.figure.Figure object at 0x137a24350>)"
      ]
     },
     "metadata": {},
     "output_type": "display_data"
    },
    {
     "data": {
      "text/plain": [
       "1-element Array{PyCall.PyObject,1}:\n",
       " PyObject <matplotlib.lines.Line2D object at 0x137d6fe10>"
      ]
     },
     "execution_count": 277,
     "metadata": {},
     "output_type": "execute_result"
    }
   ],
   "source": [
    "Q=maunaloa[:,2:13]'\n",
    "\n",
    "b=Q[:] \n",
    "\n",
    "using PyPlot\n",
    "\n",
    "plot(b,\"x\")"
   ]
  },
  {
   "cell_type": "markdown",
   "metadata": {},
   "source": [
    "We observe that the data seems quite oscillatory.\n",
    "A suitable function to fit to the given data could be\n",
    "$$y(t)=c_1+c_2e^{\\alpha t} + \\sum_{k=1}^{np} \\left(a_k cos({2\\pi kt\\over 12}) +\n",
    "b_k sin({2\\pi kt\\over 12})\\right)$$\n",
    "where $t$ is in months, $\\alpha = 0.00037$. \n",
    "**The other parameters to be computed with the least squares method.** \n",
    "\n",
    "1. Solve the least square problem for $np=1,2,...,12$ by solving directly the normal equation with the backlash operator. This means `x=(A'A)\\(A'b)`. Report also $cond(A'A)$.\n",
    "\n",
    "2. Use the function `qrfact()` to solve the least squares problem for $np=1,2,\\cdots,12$, truncating $A$ to rank $r$, for $r=1,2,\\cdots,14$. This means, following the notation in teh previous discussion, $R_{11}$ is is an $r\\times r$ matrix . Report also $cond(R_{11})$.\n",
    "\n",
    "3. Present the computed values of the parameters in each case. Plot out the solutions $y(t)$ against the data points.\n",
    "Compare your numerical solutions computed in 1. and in 2. Try to explain the discrepancies that you observe.\n",
    "\n",
    "4. Compute also the residual and write out its 2-norm in each case. Did the residual always decrease as $np$ increases?\n",
    "\n",
    "5. Perturb the data by a small amount: ` b.+=1e-5*rand(size(b))`, and compare your least square solutions with the ones that you computed without the perturbation. \n"
   ]
  }
 ],
 "metadata": {
  "kernelspec": {
   "display_name": "Julia 0.6.1",
   "language": "julia",
   "name": "julia-0.6"
  },
  "language_info": {
   "file_extension": ".jl",
   "mimetype": "application/julia",
   "name": "julia",
   "version": "0.6.1"
  }
 },
 "nbformat": 4,
 "nbformat_minor": 2
}
