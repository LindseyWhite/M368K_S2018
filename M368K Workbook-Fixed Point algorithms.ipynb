{
 "cells": [
  {
   "cell_type": "markdown",
   "metadata": {},
   "source": [
    "# Fixed point iterations\n",
    "\n",
    "$f:\\mathbb{R}^d\\mapsto\\mathbb{R}^d$\n",
    "\n",
    "* Need to come up with $g(x)$ such that \n",
    "$$ f(x^*)=0 \\iff x^* = g(x^*) $$\n",
    "\n",
    "* Introduce the fixed point iteration for $g$: $$ x_{k+1} := g(x_k).$$\n",
    "\n",
    "**What should $g(x)$ be?** \n",
    "So that $x_k\\longrightarrow x^*$\n",
    "\n"
   ]
  },
  {
   "cell_type": "markdown",
   "metadata": {},
   "source": [
    "## Linear systems of equations\n",
    "Let $$f(x)=Ax-b,$$\n",
    "where $A$ is an $d\\times d$ invertible matrix, and $x,b$ are two vectors in $\\mathbb{R}^d$.\n",
    "We want to find the solution of $f(x)=0$.\n",
    "\n",
    "Typically, we write the above linear system of equations as \n",
    "$$ Ax =b $$\n",
    "\n",
    "\n",
    "## Two fixed point iterations to solve linear systems of equations\n",
    "\n",
    "We first discuss two particular fixed-point iterations (two different $g$'s):\n",
    "\n",
    "* Jacobi iterations\n",
    "* Gauss-Seidel iterations\n",
    "\n",
    "A general strategy in coming up with fixed point iterations is to *split* $A$ into the sum of two matrices, separate the equations accordingly by the equal sign\n",
    "$$\n",
    "A=M+N \\implies Ax=b \\iff Mx=-Nx+b\n",
    "$$\n",
    "and define the iterations\n",
    "$$\n",
    "Mx_{k+1} = -Nx_{k} +b.\n",
    "$$\n",
    "\n",
    "**Of course, $M$ has to be very simple and easy to invert.**\n",
    "\n",
    "**Both iterative schemes can be used to solve *nonlinear* equations**\n"
   ]
  },
  {
   "cell_type": "markdown",
   "metadata": {},
   "source": [
    "### Jacobi iterations\n",
    "\n",
    "In the Jacobi iterations, $M$ is the diagonal of $A$ (and $N$ is $A$ with its diagonal culled out).\n",
    "\n",
    "* Very easy parallelization\n",
    "\n",
    "\n",
    "$$ \n",
    "a_{11} \\mathbf{x_1^{(k+1)}} + a_{12} x_2^{(k)}+a_{13} x_3^{(k)}+...+a_{1n} x_n^{(k)}=b_1 \n",
    "$$\n",
    "\n",
    "$$ \n",
    "a_{21} x_1^{(k)} + a_{22} \\mathbf{x_2^{(k+1)}}+a_{13} x_3^{(k)}+...+a_{1n} x_n^{(k)}=b_2 \n",
    "$$\n",
    "\n",
    "$$\\vdots$$\n",
    "\n",
    "\n",
    "Solving nonlinear equations: $ f_1(x) = 0,f_2(x)=0,...,f_n(x)=0, x=(x_1,x_2,...,x_n) $\n",
    "\n",
    "$$ f_1(\\mathbf{x_1^{(k+1)}}, x_2^{(k)}, ..., x_n^{(k)})=0 $$\n",
    "$$ f_2({x_1^{(k)}}, \\mathbf{x_2^{(k+1)}}, ..., x_n^{(k)})=0 $$\n",
    "$$\\vdots$$"
   ]
  },
  {
   "cell_type": "code",
   "execution_count": null,
   "metadata": {
    "collapsed": true
   },
   "outputs": [],
   "source": [
    "#Example: Jacobi iterations\n",
    "\n",
    "A=[10. 2. 3.; 4. 15. 6.; 7. 8. 19.]\n",
    "\n",
    "#What happens if the diagonal elements are smaller, but A is still invertible?\n",
    "# A=[1. 2. 3.; 4. 5. 6.; 7. 8. 19.]\n",
    "\n",
    "\n",
    "M=zeros(3,3)\n",
    "\n",
    "M=diagm( diag(A),0)\n",
    "\n",
    "N=A-M\n",
    "\n",
    "Minv = inv(M)\n",
    "\n",
    "b=ones(3)\n",
    "x=rand(3)\n",
    "\n",
    "#the following for-loop is only for illustrating teh concept of Jacobi iteration\n",
    "#in practice, one should never allocate memory for M or Minv\n",
    "for k=1:25\n",
    "   x = Minv*(-N*x+b) \n",
    "   println(x)\n",
    "end\n",
    "\n",
    "println(\"\\nChecking the residual: \", A*x-b)"
   ]
  },
  {
   "cell_type": "code",
   "execution_count": null,
   "metadata": {
    "collapsed": true
   },
   "outputs": [],
   "source": [
    "eigvals(Minv*N)"
   ]
  },
  {
   "cell_type": "code",
   "execution_count": null,
   "metadata": {
    "collapsed": true
   },
   "outputs": [],
   "source": [
    "#a more appropirate way to implementing the JAcobi iterations\n",
    "function JacobiIterations!(x, A, b, numitrs)\n",
    "   \n",
    "   xnext=copy(x)\n",
    "   sum=0.0\n",
    "    \n",
    "   for itr=1:numitrs \n",
    "   for i=1:size(A,1)\n",
    "        sum=0.0\n",
    "        for j in [1:i-1; i+1:3]\n",
    "            sum+=A[i,j]*x[j]\n",
    "        end\n",
    "        xnext[i] = (b[i]-sum)/A[i,i]\n",
    "   end\n",
    "    \n",
    "   x.=xnext\n",
    "   println(itr,\": \", x)\n",
    "   end \n",
    "end\n",
    "\n",
    "x=rand(3)\n",
    "\n",
    "JacobiIterations!(x, A, b, 25)\n",
    "\n",
    "println(x)\n",
    "println(A*x-b)"
   ]
  },
  {
   "cell_type": "markdown",
   "metadata": {},
   "source": [
    "### Gauss-Seidel iterations\n",
    "\n",
    "In the Gauss-Seidel iterations, $M$ is the lower triangular part of $A$ (including the diagonal)\n",
    "\n",
    "* This algorithm is of sequential nature\n",
    "\n",
    "$$ \n",
    "a_{11} \\mathbf{x_1^{(k+1)}} + a_{12} x_2^{(k)}+a_{13} x_3^{(k)}+...+a_{1n} x_n^{(k)}=b_1 \n",
    "$$\n",
    "\n",
    "$$ \n",
    "a_{21} \\mathbf{x_1^{(k+1)}} + a_{22} \\mathbf{x_2^{(k+1)}}+a_{13} x_3^{(k)}+...+a_{1n} x_n^{(k)}=b_2 \n",
    "$$\n",
    "$$ \\vdots$$\n",
    "\n",
    "Solving nonlinear equations: $ f_1(x) = 0,f_2(x)=0,...,f_n(x)=0, x=(x_1,x_2,...,x_n) $\n",
    "\n",
    "$$ f_1(\\mathbf{x_1^{(k+1)}}, x_2^{(k)}, ..., x_n^{(k)})=0 $$\n",
    "$$ f_2(\\mathbf{x_1^{(k+1)}}, \\mathbf{x_2^{(k+1)}}, ..., x_n^{(k)})=0 $$\n",
    "$$\\vdots$$"
   ]
  },
  {
   "cell_type": "code",
   "execution_count": null,
   "metadata": {
    "collapsed": true
   },
   "outputs": [],
   "source": [
    "function GaussSeidelIterations!(x, A, b, numitrs)\n",
    "   \n",
    "   sum=0.0\n",
    "\n",
    "   for itr=1:numitrs \n",
    "   for i=1:size(A,1)\n",
    "        sum=0.0\n",
    "        for j in [1:i-1; i+1:3]\n",
    "            sum+=A[i,j]*x[j]\n",
    "        end\n",
    "        x[i] = (b[i]-sum)/A[i,i]\n",
    "   end\n",
    "   println(itr, \": \", x)\n",
    "   end \n",
    "end"
   ]
  },
  {
   "cell_type": "code",
   "execution_count": null,
   "metadata": {
    "collapsed": true
   },
   "outputs": [],
   "source": [
    "x=rand(3)\n",
    "\n",
    "GaussSeidelIterations!(x, A, b, 25)\n",
    "\n",
    "println(x)\n",
    "println(A*x-b)"
   ]
  },
  {
   "cell_type": "markdown",
   "metadata": {
    "collapsed": true
   },
   "source": [
    "# Convergence of iterative algorithms\n",
    "\n",
    "* linearly convergent algorithms: (**the error in the next step is a linear function of the current error**)\n",
    "$$ e_{n+1} = a e_n $$\n",
    "    \n",
    "    * number of correct digits is a linear function of the number of iterations: $$ \\textrm{num of accurate digits} = \\alpha_0 n $$\n",
    "\n",
    "\n",
    "* quadratically convergent algorithms: (**the error in the next step is a quadratic function of the current error**)\n",
    "$$ e_{n+1} = a e_n^2 $$\n",
    "\n",
    "    * number of correct digits doubles after each iterations: $$ \\textrm{num of accurate digits} = \\alpha_1 2^n$$\n",
    "\n",
    "\n",
    "* p-th order convergent algorithms:\n",
    "$$ e_{n+1} = a e_n^p $$\n",
    "\n",
    "### Possible confusion with ***order of accuracy***\n",
    "\n",
    "(For linearly convergent algorithms)\n",
    "$$e_n \\le Const\\cdot \\frac{1}{n^p}$$\n",
    "\n",
    "**p-th order accurate algorithm**."
   ]
  },
  {
   "cell_type": "markdown",
   "metadata": {},
   "source": [
    "## Convergence theorem for Jacobi iterations\n",
    "\n",
    "Theorem: "
   ]
  },
  {
   "cell_type": "markdown",
   "metadata": {},
   "source": [
    "## Convergence theorem for Gauss-Seidel iterations"
   ]
  },
  {
   "cell_type": "markdown",
   "metadata": {},
   "source": [
    "## Relaxation algorithms"
   ]
  },
  {
   "cell_type": "markdown",
   "metadata": {},
   "source": [
    "## Conjugate gradient methods"
   ]
  },
  {
   "cell_type": "code",
   "execution_count": null,
   "metadata": {
    "collapsed": true
   },
   "outputs": [],
   "source": []
  }
 ],
 "metadata": {
  "anaconda-cloud": {},
  "kernelspec": {
   "display_name": "Julia 0.6.0",
   "language": "julia",
   "name": "julia-0.6"
  },
  "language_info": {
   "file_extension": ".jl",
   "mimetype": "application/julia",
   "name": "julia",
   "version": "0.6.2"
  }
 },
 "nbformat": 4,
 "nbformat_minor": 1
}
