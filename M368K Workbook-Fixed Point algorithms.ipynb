{
 "cells": [
  {
   "cell_type": "markdown",
   "metadata": {},
   "source": [
    "# Fixed point iterations\n",
    "\n",
    "$f:\\mathbb{R}^d\\mapsto\\mathbb{R}^d$\n",
    "\n",
    "* Need to come up with $g(x)$ such that \n",
    "$$ f(x^*)=0 \\iff x^* = g(x^*) $$\n",
    "\n",
    "* Introduce the fixed point iteration for $g$: $$ x_{k+1} := g(x_k).$$\n",
    "\n",
    "**What should $g(x)$ be?** \n",
    "So that $x_k\\longrightarrow x^*$\n",
    "\n"
   ]
  },
  {
   "cell_type": "markdown",
   "metadata": {},
   "source": [
    "## Linear systems of equations\n",
    "Let $$f(x)=Ax-b,$$\n",
    "where $A$ is an $d\\times d$ invertible matrix, and $x,b$ are two vectors in $\\mathbb{R}^d$.\n",
    "We want to find the solution of $f(x)=0$.\n",
    "\n",
    "Typically, we write the above linear system of equations as \n",
    "$$ Ax =b $$\n",
    "\n",
    "We will consider fixed point iterations with $g(x)=Gx+c$.\n",
    "\n",
    "### General strategy for creating fixed-point iterations for systems by splitting the matrix\n",
    "\n",
    "A general strategy in coming up with fixed point iterations is to *split* $A$ into the sum of two matrices, separate the equations accordingly by the equal sign\n",
    "$$\n",
    "A=M-N \\implies Ax=b \\iff Mx=Nx+b\n",
    "$$\n",
    "and define the iterations\n",
    "$$\n",
    "Mx^{(k+1)} = Nx^{(k)} +b, \n",
    "$$\n",
    "\n",
    "leading to the general form\n",
    "\n",
    "$$x^{(k+1)}=M^{-1}Nx^{(k)}+M^{-1}b \\iff x^{(k+1)}=G x^{(k)}+ c $$\n",
    "\n",
    "**Of course, $M$ has to be very simple and easy to invert.**\n",
    "\n",
    "**Both iterative schemes can be used to solve *nonlinear* equations**\n",
    "\n",
    "** Learniing objective **:\n",
    "* Know how convergence of a fixed point iterations is related to the eigenvalues of the matrices involved\n",
    "\n",
    "\n",
    "## Three fixed point iterations to solve linear systems of equations\n",
    "\n",
    "We first discuss two particular fixed-point iterations (two different $g$'s):\n",
    "\n",
    "* Jacobi iterations (J)\n",
    "* Gauss-Seidel iterations (G-S)\n",
    "* Successive Over Relaxations (SOR): this method builds on top of (G-S)\n",
    "\n",
    "**Learning objectives**:\n",
    "\n",
    "* Know how to write Julia code for the two methods\n",
    "* Know the general convergence theory. \n",
    "    * For this class: Burden and Faires: Lemma 7.18, Theorem 7.19, Theorem 7.21\n"
   ]
  },
  {
   "cell_type": "markdown",
   "metadata": {},
   "source": [
    "### Jacobi iterations\n",
    "\n",
    "In the Jacobi iterations, $M=D$ is the diagonal of $A$ (and $N$ is $A$ with its diagonal culled out): $$G=G_J:=D^{-1}(L+U)$$ \n",
    "\n",
    "$$x^{(k+1)}=G_{J} x^{(k)}+ c_{J}$$\n",
    "\n",
    "* **Very easy parallelization**\n",
    "\n",
    "\n",
    "$$ \n",
    "a_{11} \\mathbf{x_1^{(k+1)}} + a_{12} x_2^{(k)}+a_{13} x_3^{(k)}+...+a_{1n} x_n^{(k)}=b_1 \n",
    "$$\n",
    "\n",
    "$$ \n",
    "a_{21} x_1^{(k)} + a_{22} \\mathbf{x_2^{(k+1)}}+a_{13} x_3^{(k)}+...+a_{1n} x_n^{(k)}=b_2 \n",
    "$$\n",
    "\n",
    "$$\\vdots$$\n",
    "\n",
    "\n",
    "Solving nonlinear equations: $ f_1(x) = 0,f_2(x)=0,...,f_n(x)=0, x=(x_1,x_2,...,x_n) $\n",
    "\n",
    "$$ f_1(\\mathbf{x_1^{(k+1)}}, x_2^{(k)}, ..., x_n^{(k)})=0 $$\n",
    "$$ f_2({x_1^{(k)}}, \\mathbf{x_2^{(k+1)}}, ..., x_n^{(k)})=0 $$\n",
    "$$\\vdots$$"
   ]
  },
  {
   "cell_type": "code",
   "execution_count": 17,
   "metadata": {},
   "outputs": [
    {
     "name": "stdout",
     "output_type": "stream",
     "text": [
      "[-0.0530865, -0.282174, -0.362088]\n",
      "[0.265061, 0.225658, 0.191]\n",
      "[-0.00243162, -0.0804163, -0.140037]\n",
      "[0.158094, 0.12333, 0.0873869]\n",
      "[0.049118, -0.0104466, -0.057542]\n",
      "[0.119352, 0.0765853, 0.038934]\n",
      "[0.0730027, 0.0192659, -0.0235866]\n",
      "[0.103223, 0.0566339, 0.0176239]\n",
      "[0.083386, 0.032091, -0.00924374]\n",
      "[0.0963549, 0.0481279, 0.00839839]\n",
      "[0.0878549, 0.0376127, -0.00313197]\n",
      "[0.0934171, 0.0444915, 0.00442707]\n",
      "[0.0897736, 0.0399846, -0.000518488]\n",
      "[0.0921586, 0.0429344, 0.00272147]\n",
      "[0.0905967, 0.0410024, 0.000600744]\n",
      "[0.0916193, 0.0422673, 0.00198967]\n",
      "[0.0909496, 0.041439, 0.00108036]\n",
      "[0.0913881, 0.0419813, 0.00167582]\n",
      "[0.091101, 0.0416262, 0.00128595]\n",
      "[0.091289, 0.0418587, 0.00154124]\n",
      "[0.0911659, 0.0417064, 0.00137409]\n",
      "[0.0912465, 0.0418061, 0.00148354]\n",
      "[0.0911937, 0.0417409, 0.00141187]\n",
      "[0.0912283, 0.0417836, 0.0014588]\n",
      "[0.0912056, 0.0417556, 0.00142807]\n",
      "\n",
      "Checking the residual: [-0.000148146, -0.000274855, -0.000382253]\n"
     ]
    }
   ],
   "source": [
    "#Example: Jacobi iterations\n",
    "\n",
    "A=[10. 2. 3.; 4. 15. 6.; 7. 8. 19.]\n",
    "\n",
    "#What happens if the diagonal elements are smaller, but A is still invertible?\n",
    "#A=[1. 2. 3.; 4. 5. 6.; 7. 8. 19.]\n",
    "\n",
    "\n",
    "M=zeros(3,3)\n",
    "\n",
    "M=diagm( diag(A),0)\n",
    "\n",
    "N=M-A\n",
    "\n",
    "Minv = inv(M)\n",
    "\n",
    "b=ones(3)\n",
    "x=rand(3)\n",
    "\n",
    "#the following for-loop is only for illustrating teh concept of Jacobi iteration\n",
    "#in practice, one should never allocate memory for M or Minv\n",
    "for k=1:25\n",
    "   x = Minv*(N*x+b) \n",
    "   println(x)\n",
    "end\n",
    "\n",
    "println(\"\\nChecking the residual: \", A*x-b)"
   ]
  },
  {
   "cell_type": "code",
   "execution_count": 18,
   "metadata": {},
   "outputs": [
    {
     "name": "stdout",
     "output_type": "stream",
     "text": [
      "The eigenvalues of Minv*N is important. \n"
     ]
    },
    {
     "data": {
      "text/plain": [
       "3-element Array{Float64,1}:\n",
       " -0.65478 \n",
       "  0.223815\n",
       "  0.430965"
      ]
     },
     "execution_count": 18,
     "metadata": {},
     "output_type": "execute_result"
    }
   ],
   "source": [
    "println(\"The eigenvalues of Minv*N is important. \")\n",
    "eigvals(Minv*N)"
   ]
  },
  {
   "cell_type": "code",
   "execution_count": 19,
   "metadata": {},
   "outputs": [
    {
     "data": {
      "text/plain": [
       "JacobiIterations! (generic function with 1 method)"
      ]
     },
     "execution_count": 19,
     "metadata": {},
     "output_type": "execute_result"
    }
   ],
   "source": [
    "#a more appropirate way to implementing the JAcobi iterations\n",
    "function JacobiIterations!(x, A, b, numitrs)\n",
    "   \n",
    "   xnext=copy(x)\n",
    "   sum=0.0\n",
    "    \n",
    "   for itr=1:numitrs \n",
    "   for i=1:size(A,1)\n",
    "        sum=0.0\n",
    "        for j in [1:i-1; i+1:size(A,2)]\n",
    "            sum+=A[i,j]*x[j]\n",
    "        end\n",
    "        xnext[i] = (b[i]-sum)/A[i,i]\n",
    "   end\n",
    "    \n",
    "   x.=xnext\n",
    "   #println(itr,\": \", x)\n",
    "   end \n",
    "end\n",
    "\n",
    "\n",
    "function JacobiIterations!(x, A, b, tol; max_itrs=100000)\n",
    "   \n",
    "   xnext=rand(size(x))\n",
    "   sum=0.0\n",
    "\n",
    "   itr=0\n",
    "    \n",
    "   while norm(xnext-x)>tol && itr<max_itrs\n",
    "        x.=xnext\n",
    "        \n",
    "    for i=1:size(A,1)\n",
    "        sum=0.0\n",
    "        for j in [1:i-1; i+1:size(A,2)]\n",
    "            sum+=A[i,j]*x[j]\n",
    "        end\n",
    "        xnext[i] = (b[i]-sum)/A[i,i]\n",
    "    end\n",
    "   itr+=1\n",
    "   end \n",
    "    \n",
    "   println(\"Jacobi finishes in \",itr,\" iterations.\")\n",
    "\n",
    "end"
   ]
  },
  {
   "cell_type": "code",
   "execution_count": 20,
   "metadata": {},
   "outputs": [
    {
     "name": "stdout",
     "output_type": "stream",
     "text": [
      "Jacobi finishes in 0 iterations.\n",
      "[0.478051, 0.65972, 0.576426]\n",
      "[6.82923, 14.2666, 18.5762]\n"
     ]
    }
   ],
   "source": [
    "x=rand(3)\n",
    "\n",
    "JacobiIterations!(x, A, b, 25)\n",
    "\n",
    "println(x)\n",
    "println(A*x-b)"
   ]
  },
  {
   "cell_type": "markdown",
   "metadata": {},
   "source": [
    "### Gauss-Seidel iterations\n",
    "\n",
    "In the Gauss-Seidel iterations, $M$ is the lower triangular part of $A$ (including the diagonal)\n",
    "\n",
    "$$ A= D-L-U, M=D-L, N=U \\implies G_{GS}:=(D-L)^{-1}U$$\n",
    "\n",
    "$$x^{(k+1)}=G_{GS} x^{(k)}+ c_{GS}$$\n",
    "\n",
    "* This algorithm is of **sequential nature**:\n",
    "    * Solve for first variable, $x_1$ in the first equation, using the previous guess for all other variables    \n",
    "$$ \n",
    "a_{11} \\mathbf{x_1} + a_{12} x_2^{(k)}+a_{13} x_3^{(k)}+...+a_{1n} x_n^{(k)}=b_1 \n",
    "$$\n",
    "    Obtain the value of $\\mathbf{x_1^{(k+1)}}$.\n",
    "    \n",
    "    * Solve for the second variable, $x_2$, in the second equation, using the value $\\mathbf{x_1^{(k+1)}}$, and the previous guess for all other variables\n",
    "$$ \n",
    "a_{21} \\mathbf{x_1^{(k+1)}} + a_{22} \\mathbf{x_2}+a_{13} x_3^{(k)}+...+a_{1n} x_n^{(k)}=b_2 \n",
    "$$\n",
    "    Obtain the value of $\\mathbf{x_2^{(k+1)}}$.\n",
    "$$ \\vdots$$\n",
    "\n",
    "Solving nonlinear equations: $ f_1(x) = 0,f_2(x)=0,...,f_n(x)=0, x=(x_1,x_2,...,x_n) $\n",
    "\n",
    "$$ f_1(\\mathbf{x_1^{(k+1)}}, x_2^{(k)}, ..., x_n^{(k)})=0 $$\n",
    "$$ f_2(\\mathbf{x_1^{(k+1)}}, \\mathbf{x_2^{(k+1)}}, ..., x_n^{(k)})=0 $$\n",
    "$$\\vdots$$"
   ]
  },
  {
   "cell_type": "code",
   "execution_count": 21,
   "metadata": {},
   "outputs": [
    {
     "data": {
      "text/plain": [
       "GaussSeidelIterations! (generic function with 1 method)"
      ]
     },
     "execution_count": 21,
     "metadata": {},
     "output_type": "execute_result"
    }
   ],
   "source": [
    "function GaussSeidelIterations!(x, A, b, tol; max_itrs=100000)\n",
    "   \n",
    "   sum=0.0\n",
    "   itr=0\n",
    "   xold=rand(size(x))\n",
    "    \n",
    "   while norm(xold-x)>tol && itr<max_itrs #for itr=1:numitrs \n",
    "    xold.=x\n",
    "    for i=1:size(A,1)\n",
    "        sum=0.0\n",
    "            for j in [1:i-1; i+1:size(A,2)]\n",
    "            sum+=A[i,j]*x[j]\n",
    "        end\n",
    "        x[i] = (b[i]-sum)/A[i,i]\n",
    "    end\n",
    "    itr+=1\n",
    "   end\n",
    "   \n",
    "   println(\"Gauss-Seidel finishes in \",itr,\" iterations.\")\n",
    "end"
   ]
  },
  {
   "cell_type": "markdown",
   "metadata": {},
   "source": [
    "### Gauss-Seidel is twice as fast as Jacobi"
   ]
  },
  {
   "cell_type": "code",
   "execution_count": 23,
   "metadata": {},
   "outputs": [
    {
     "name": "stdout",
     "output_type": "stream",
     "text": [
      "Gauss-Seidel finishes in 9 iterations.\n",
      "[0.0912146, 0.0417668, 0.00144016]\n",
      "[4.01081e-7, 1.87095e-6, 0.0]\n",
      "\n",
      "Jacobi finishes in 33 iterations.\n",
      "[0.0912149, 0.041767, 0.00144062]\n",
      "[4.70604e-6, 8.73111e-6, 1.21427e-5]\n"
     ]
    }
   ],
   "source": [
    "x0=rand(3)\n",
    "\n",
    "x=copy(x0)\n",
    "GaussSeidelIterations!(x, A, b, 0.000001)\n",
    "\n",
    "println(x)\n",
    "println(A*x-b,\"\\n\")\n",
    "\n",
    "x=copy(x0)\n",
    "JacobiIterations!(x, A, b, 0.000001)\n",
    "\n",
    "println(x)\n",
    "println(A*x-b)\n"
   ]
  },
  {
   "cell_type": "markdown",
   "metadata": {},
   "source": [
    "## Successive over relaxation (SOR)\n",
    "\n",
    "SOR is obtained by *averaging* the Gauss-Seidel update, $x^{(k+1)}_{GS}$, with the approximation computed in the previous iteration, $x^{(k)}$:\n",
    "\n",
    "$$ x^{(k+1)}_{SOR}:= \\omega x^{(k+1)}_{GS}+(1-\\omega) x^{(k)}. $$\n",
    "\n",
    "\n",
    "Three important theorems about SOR:\n",
    "\n",
    "Theorem (Kahan): Let $a_{ii}\\neq 0, i=1,2,\\cdots,n$. **If SOR converges, then $0<\\omega<2$.**\n",
    "\n",
    "Theorem (Ostrowski-Reich): **SOR converges for all $0<\\omega<2$ iff $A$ is invertible, symmetric, positive definite.**\n",
    "\n",
    "**Choose $\\omega$ to make $\\rho(G_{SOR})$ as small as possible.**\n",
    "\n",
    "* This was pioneered by David Young, here at UT Ausitn in 1950'\n",
    "\n",
    "Theorem (Young): $\\omega_{opt}$ as a function of $\\rho(G_J)$.\n",
    "\n",
    "For more in-depth exposition about the choice of $\\omega$, check out GGK, Sec 11.3.4."
   ]
  },
  {
   "cell_type": "code",
   "execution_count": 24,
   "metadata": {},
   "outputs": [
    {
     "data": {
      "text/plain": [
       "SOR! (generic function with 1 method)"
      ]
     },
     "execution_count": 24,
     "metadata": {},
     "output_type": "execute_result"
    }
   ],
   "source": [
    "function SOR!(x, A, b, ω, tol; max_itrs=100000)\n",
    "   \n",
    "   sum=0.0\n",
    "   itr=0\n",
    "   xold=rand(size(x))\n",
    "    \n",
    "   diff=xold-x\n",
    "    \n",
    "   while norm(diff)>tol && itr<max_itrs \n",
    "    xold.=x\n",
    "    for i=1:size(A,1)\n",
    "        sum=0.0\n",
    "        for j=1:i-1 \n",
    "            sum+=A[i,j]*x[j]\n",
    "        end\n",
    "        for j=i+1:size(A,2) \n",
    "            sum+=A[i,j]*x[j]\n",
    "        end\n",
    "\n",
    "        x[i] = ω*(b[i]-sum)/A[i,i]+(1.0-ω)*xold[i]\n",
    "    end\n",
    "    diff.=xold.-x\n",
    "    itr+=1\n",
    "   end\n",
    "   \n",
    "   println(\"SOR finishes in \",itr,\" iterations.\")\n",
    "end"
   ]
  },
  {
   "cell_type": "code",
   "execution_count": 27,
   "metadata": {},
   "outputs": [
    {
     "name": "stdout",
     "output_type": "stream",
     "text": [
      "Gauss-Seidel finishes in 25 iterations.\n",
      "[0.171247, 0.0528541, -0.0443975]\n",
      "[-6.09068e-13, -2.3137e-12, 0.0]\n",
      "\n",
      "Jacobi finishes in 486 iterations.\n",
      "[0.171247, 0.0528541, -0.0443975]\n",
      "[-3.04123e-12, -5.94169e-12, -8.34421e-12]\n",
      "\n",
      "SOR finishes in 52 iterations.\n",
      "  0.000069 seconds (69 allocations: 1.688 KiB)\n",
      "[0.171247, 0.0528541, -0.0443975]\n",
      "[-7.44627e-13, -4.71512e-12, 2.23199e-12]\n",
      "\n"
     ]
    }
   ],
   "source": [
    "#Example: Jacobi iterations\n",
    "\n",
    "A=[6. 2. 3.; 4. 11. 6.; 7. 8. 14.]\n",
    "\n",
    "\n",
    "M=zeros(3,3)\n",
    "\n",
    "M=diagm( diag(A),0)\n",
    "\n",
    "N=M-A\n",
    "\n",
    "Minv = inv(M)\n",
    "\n",
    "tol=1e-12\n",
    "\n",
    "b=ones(3)\n",
    "x=rand(3)\n",
    "\n",
    "x0=rand(3)\n",
    "\n",
    "x=copy(x0)\n",
    "GaussSeidelIterations!(x, A, b, tol)\n",
    "\n",
    "println(x)\n",
    "println(A*x-b,\"\\n\")\n",
    "\n",
    "x=copy(x0)\n",
    "JacobiIterations!(x, A, b, tol)\n",
    "\n",
    "println(x)\n",
    "println(A*x-b,\"\\n\")\n",
    "\n",
    "#SOR with non-optimal weight\n",
    "x=copy(x0)\n",
    "@time SOR!(x, A, b, 0.75, tol)\n",
    "\n",
    "println(x)\n",
    "println(A*x-b,\"\\n\")"
   ]
  },
  {
   "cell_type": "markdown",
   "metadata": {},
   "source": [
    "### Example: solving a two-point boundary value problem for Poisson's equation\n",
    "\n",
    "$$ -u_{xx} =f(x),~~~0<x<1,~~~u(0)=u(1)=0 $$\n",
    "\n",
    "* Discretize the unit interval: $x_j = j\\Delta x, j=0,1,2,\\cdots,N,\\Delta x =1/N$\n",
    "\n",
    "* Approximate the differential equation on the grid nodes:\n",
    "    $$ -u_{xx} (x_j)=f(x_j) \\approx -(u_{j+1}-2u_j+u_{j-1})/\\Delta x^2 = f(x_j),~~~j=1,2,\\cdots,N-1 $$\n",
    "\n",
    "* Set the boundary conditions: $u_0=0=u_N$.\n",
    "\n",
    "This leads to a linear system to solve: $AU=F$."
   ]
  },
  {
   "cell_type": "code",
   "execution_count": 28,
   "metadata": {},
   "outputs": [
    {
     "name": "stdout",
     "output_type": "stream",
     "text": [
      "  0.000750 seconds (14 allocations: 155.406 KiB)\n",
      "\n",
      "\n",
      "Gauss-Seidel finishes in 15664 iterations.\n",
      "  0.498686 seconds (4.67 M allocations: 1.400 GiB, 15.32% gc time)\n",
      "\n",
      "\n",
      "Jacobi finishes in 45197 iterations.\n",
      "  1.409567 seconds (13.47 M allocations: 4.038 GiB, 14.54% gc time)\n",
      "\n",
      "\n",
      "SOR finishes in 5588 iterations.\n",
      "  0.060268 seconds (71 allocations: 3.625 KiB)\n",
      "λ_J = 0.9995065603657316\n",
      "\n",
      "optimal ω for this case is 1.9390916590666527\n",
      "\n",
      "SOR finishes in 452 iterations.\n",
      "  0.004977 seconds (70 allocations: 3.375 KiB)\n"
     ]
    }
   ],
   "source": [
    "N=100\n",
    "xgrid=linspace(0,1,N+1)\n",
    "Δx=1/N\n",
    "\n",
    "f=x-> x.^2+sin(20*x)\n",
    "\n",
    "#The vector U stores (u1,u2,u3,cdots, u_(N-1))\n",
    "U=zeros(N-1)\n",
    "\n",
    "#N-2 because we exclude x=0 and X=1.\n",
    "A=-2.*diagm(ones(N-1))+diagm(ones(N-2),1)+diagm(ones(N-2),-1)\n",
    "F=collect(f.(xgrid[2:end-1]))\n",
    "\n",
    "b=F.*Δx^2\n",
    "\n",
    "@time U=-A\\b\n",
    "\n",
    "Ugs=copy(U)\n",
    "Uj=copy(U)\n",
    "Usor=copy(U)\n",
    "\n",
    "println(\"\\n\")\n",
    "@time GaussSeidelIterations!(Ugs, A, b, 1e-10)\n",
    "\n",
    "println(\"\\n\")\n",
    "@time JacobiIterations!(Uj, A, b, 1e-10)\n",
    "\n",
    "println(\"\\n\")\n",
    "@time SOR!(Usor, A, b, 1.5, 1e-10)\n",
    "\n",
    "M=diagm(diag(A),0)\n",
    "N=M-A\n",
    "λ=svdvals(M\\N)\n",
    "ωopt=2.0/(1.0+sqrt(1.0-λ[1]^2))\n",
    "\n",
    "println(\"λ_J = \", λ[1],\"\\n\")\n",
    "println(\"optimal ω for this case is \", ωopt,\"\\n\")\n",
    "Usor=copy(U)\n",
    "@time SOR!(Usor, A, b, ωopt, tol)"
   ]
  },
  {
   "cell_type": "code",
   "execution_count": 10,
   "metadata": {},
   "outputs": [
    {
     "data": {
      "image/png": "[encoded data removed]",
      "text/plain": [
       "PyPlot.Figure(PyObject <matplotlib.figure.Figure object at 0x12476efd0>)"
      ]
     },
     "metadata": {},
     "output_type": "display_data"
    },
    {
     "data": {
      "text/plain": [
       "1-element Array{PyCall.PyObject,1}:\n",
       " PyObject <matplotlib.lines.Line2D object at 0x12d7e43d0>"
      ]
     },
     "execution_count": 10,
     "metadata": {},
     "output_type": "execute_result"
    }
   ],
   "source": [
    "using PyPlot\n",
    "\n",
    "plot(xgrid[2:end-1], U)"
   ]
  },
  {
   "cell_type": "markdown",
   "metadata": {},
   "source": [
    "### Poisson equation in two dimensions\n",
    "\n",
    "$$-(u_{xx}+u_{yy})=f(x,y),~~~0<x,y<1$$"
   ]
  },
  {
   "cell_type": "code",
   "execution_count": 14,
   "metadata": {},
   "outputs": [
    {
     "data": {
      "image/png": "[encoded data removed]",
      "text/plain": [
       "PyPlot.Figure(PyObject <matplotlib.figure.Figure object at 0x130d5f3d0>)"
      ]
     },
     "metadata": {},
     "output_type": "display_data"
    },
    {
     "name": "stdout",
     "output_type": "stream",
     "text": [
      "Optimal sparse solver: \n",
      "  0.000252 seconds (101 allocations: 19.039 KiB)\n",
      "\n",
      "\n",
      "Gauss-Seidel finishes in 68 iterations.\n",
      "  0.000438 seconds (3.40 k allocations: 304.891 KiB)\n",
      "\n",
      "\n",
      "Jacobi finishes in 127 iterations.\n",
      "  0.000899 seconds (6.29 k allocations: 568.234 KiB)\n",
      "\n",
      "\n",
      "SOR finishes in 308 iterations.\n",
      "  0.001081 seconds (69 allocations: 1.875 KiB)\n"
     ]
    }
   ],
   "source": [
    "N=5\n",
    "xgrid=linspace(0,1,N+1)\n",
    "Δx=1/N\n",
    "\n",
    "f=(x,y)-> x.^2+y\n",
    "\n",
    "#assemling the finite different operator for the left hand side of the PDE\n",
    "T=spdiagm( (ones(N-2), -2.0*ones(N-1),ones(N-2)), [-1,0,1])\n",
    "#T=diagm( ones(N-2), -1) - 2.0*diagm(ones(N-1)) + diagm(ones(N-2),1)\n",
    "I=speye(N-1,N-1)\n",
    "\n",
    "A=kron(I,T)+kron(T,I)\n",
    "\n",
    "size(A)\n",
    "\n",
    "using PyPlot\n",
    "spy(A)\n",
    "\n",
    "F=ones(size(A,1))\n",
    "\n",
    "b=-F.*Δx^2\n",
    "\n",
    "U=copy(F)\n",
    "Uj=copy(F)\n",
    "Ugs=copy(F)\n",
    "Usor=copy(F)\n",
    "\n",
    "println(\"Optimal sparse solver: \")\n",
    "@time U=A\\b\n",
    "\n",
    "#println(\"LU:\")\n",
    "#F=lufact(A)\n",
    "#@time U=inv(F[:U])*inv(F[:L])*b\n",
    "\n",
    "\n",
    "println(\"\\n\")\n",
    "@time GaussSeidelIterations!(Ugs, A, b, 1e-12)\n",
    "\n",
    "println(\"\\n\")\n",
    "@time JacobiIterations!(Uj, A, b, 1e-12)\n",
    "\n",
    "println(\"\\n\")\n",
    "@time SOR!(Usor, A, b, 1.91, 1e-12)"
   ]
  },
  {
   "cell_type": "markdown",
   "metadata": {
    "collapsed": true
   },
   "source": [
    "###### Convergence of iterative algorithms\n",
    "\n",
    "* linearly convergent algorithms: (**the error in the next step is a linear function of the current error**)\n",
    "$$ e_{n+1} = a e_n $$\n",
    "    \n",
    "    * number of correct digits is a linear function of the number of iterations: $$ \\textrm{num of accurate digits} = \\alpha_0 n $$\n",
    "\n",
    "\n",
    "* quadratically convergent algorithms: (**the error in the next step is a quadratic function of the current error**)\n",
    "$$ e_{n+1} = a e_n^2 $$\n",
    "\n",
    "    * number of correct digits doubles after each iterations: $$ \\textrm{num of accurate digits} = \\alpha_1 2^n$$\n",
    "\n",
    "\n",
    "* p-th order convergent algorithms:\n",
    "$$ e_{n+1} = a e_n^p $$\n",
    "\n",
    "### Possible confusion with ***order of accuracy***\n",
    "\n",
    "(For linearly convergent algorithms)\n",
    "$$e_n \\le Const\\cdot \\frac{1}{n^p}$$\n",
    "\n",
    "**p-th order accurate algorithm**."
   ]
  },
  {
   "cell_type": "markdown",
   "metadata": {},
   "source": [
    "## Conjugate gradient (CG) methods\n",
    "\n",
    "$$Ax=b$$\n",
    "* It is optimal for symmetric positive definite systems: $A^T =A,~~~x^TAx>0,~\\forall x\\neq 0$\n",
    "* It is a type of **Krylov methods**\n",
    "* In each iteration, say iteration $k$, the algorithm chooses the next guess, $x^{(k+1)}$, by \n",
    "  * minimizes the residual, $r^{(k+1)}:=b-Ax^{(k+1)}$, \n",
    "  * in a special norm built from $A$ and $x^{(j)},j=1,2,\\cdots,k$.\n",
    "* Very simple, elegant and fast algorithm"
   ]
  },
  {
   "cell_type": "code",
   "execution_count": 1,
   "metadata": {
    "collapsed": true
   },
   "outputs": [],
   "source": [
    "using KrylovMethods"
   ]
  },
  {
   "cell_type": "code",
   "execution_count": null,
   "metadata": {
    "collapsed": true
   },
   "outputs": [],
   "source": []
  }
 ],
 "metadata": {
  "anaconda-cloud": {},
  "kernelspec": {
   "display_name": "Julia 0.6.0",
   "language": "julia",
   "name": "julia-0.6"
  },
  "language_info": {
   "file_extension": ".jl",
   "mimetype": "application/julia",
   "name": "julia",
   "version": "0.6.2"
  }
 },
 "nbformat": 4,
 "nbformat_minor": 1
}
